{
 "cells": [
  {
   "cell_type": "code",
   "execution_count": 2,
   "id": "23e8485c",
   "metadata": {},
   "outputs": [],
   "source": [
    "import pandas as pd"
   ]
  },
  {
   "cell_type": "code",
   "execution_count": 3,
   "id": "805d97bd",
   "metadata": {},
   "outputs": [],
   "source": [
    "path = \"data/raw_data/phase-1/prob-1/raw_train.parquet\""
   ]
  },
  {
   "cell_type": "code",
   "execution_count": 4,
   "id": "ecb22b1a",
   "metadata": {},
   "outputs": [],
   "source": [
    "data = pd.read_parquet(path)"
   ]
  },
  {
   "cell_type": "code",
   "execution_count": 10,
   "id": "47667120",
   "metadata": {},
   "outputs": [
    {
     "data": {
      "text/html": [
       "<div>\n",
       "<style scoped>\n",
       "    .dataframe tbody tr th:only-of-type {\n",
       "        vertical-align: middle;\n",
       "    }\n",
       "\n",
       "    .dataframe tbody tr th {\n",
       "        vertical-align: top;\n",
       "    }\n",
       "\n",
       "    .dataframe thead th {\n",
       "        text-align: right;\n",
       "    }\n",
       "</style>\n",
       "<table border=\"1\" class=\"dataframe\">\n",
       "  <thead>\n",
       "    <tr style=\"text-align: right;\">\n",
       "      <th></th>\n",
       "      <th>feature1</th>\n",
       "      <th>feature2</th>\n",
       "      <th>feature3</th>\n",
       "      <th>feature4</th>\n",
       "      <th>feature5</th>\n",
       "      <th>feature6</th>\n",
       "      <th>feature7</th>\n",
       "      <th>feature8</th>\n",
       "      <th>feature9</th>\n",
       "      <th>feature10</th>\n",
       "      <th>feature11</th>\n",
       "      <th>feature12</th>\n",
       "      <th>feature13</th>\n",
       "      <th>label</th>\n",
       "      <th>feature14</th>\n",
       "      <th>feature15</th>\n",
       "      <th>feature16</th>\n",
       "    </tr>\n",
       "  </thead>\n",
       "  <tbody>\n",
       "    <tr>\n",
       "      <th>0</th>\n",
       "      <td>Site engineer</td>\n",
       "      <td>grocery_pos</td>\n",
       "      <td>8.60</td>\n",
       "      <td>48230</td>\n",
       "      <td>40.213439</td>\n",
       "      <td>-85.203756</td>\n",
       "      <td>47583</td>\n",
       "      <td>42.508293</td>\n",
       "      <td>-83.168004</td>\n",
       "      <td>65.596062</td>\n",
       "      <td>3</td>\n",
       "      <td>5</td>\n",
       "      <td>1</td>\n",
       "      <td>1</td>\n",
       "      <td>8.017865</td>\n",
       "      <td>1.028822</td>\n",
       "      <td>58.911132</td>\n",
       "    </tr>\n",
       "    <tr>\n",
       "      <th>1</th>\n",
       "      <td>Site engineer</td>\n",
       "      <td>gas_transport</td>\n",
       "      <td>316.84</td>\n",
       "      <td>48230</td>\n",
       "      <td>44.379391</td>\n",
       "      <td>-82.859721</td>\n",
       "      <td>47583</td>\n",
       "      <td>42.661838</td>\n",
       "      <td>-81.966510</td>\n",
       "      <td>64.728795</td>\n",
       "      <td>6</td>\n",
       "      <td>5</td>\n",
       "      <td>1</td>\n",
       "      <td>1</td>\n",
       "      <td>11.768568</td>\n",
       "      <td>1.106217</td>\n",
       "      <td>64.431017</td>\n",
       "    </tr>\n",
       "    <tr>\n",
       "      <th>2</th>\n",
       "      <td>Site engineer</td>\n",
       "      <td>grocery_pos</td>\n",
       "      <td>294.89</td>\n",
       "      <td>48230</td>\n",
       "      <td>42.950657</td>\n",
       "      <td>-84.935542</td>\n",
       "      <td>47583</td>\n",
       "      <td>42.580470</td>\n",
       "      <td>-82.408529</td>\n",
       "      <td>65.434606</td>\n",
       "      <td>3</td>\n",
       "      <td>5</td>\n",
       "      <td>1</td>\n",
       "      <td>1</td>\n",
       "      <td>7.996359</td>\n",
       "      <td>0.899881</td>\n",
       "      <td>57.545348</td>\n",
       "    </tr>\n",
       "    <tr>\n",
       "      <th>3</th>\n",
       "      <td>Site engineer</td>\n",
       "      <td>shopping_net</td>\n",
       "      <td>831.08</td>\n",
       "      <td>48230</td>\n",
       "      <td>39.372111</td>\n",
       "      <td>-84.893973</td>\n",
       "      <td>47583</td>\n",
       "      <td>41.948688</td>\n",
       "      <td>-83.919881</td>\n",
       "      <td>64.990422</td>\n",
       "      <td>23</td>\n",
       "      <td>6</td>\n",
       "      <td>1</td>\n",
       "      <td>1</td>\n",
       "      <td>8.767720</td>\n",
       "      <td>1.062966</td>\n",
       "      <td>62.681169</td>\n",
       "    </tr>\n",
       "    <tr>\n",
       "      <th>4</th>\n",
       "      <td>Site engineer</td>\n",
       "      <td>health_fitness</td>\n",
       "      <td>1063.84</td>\n",
       "      <td>48230</td>\n",
       "      <td>41.227499</td>\n",
       "      <td>-83.228392</td>\n",
       "      <td>47583</td>\n",
       "      <td>41.544743</td>\n",
       "      <td>-82.123365</td>\n",
       "      <td>65.316083</td>\n",
       "      <td>23</td>\n",
       "      <td>6</td>\n",
       "      <td>1</td>\n",
       "      <td>1</td>\n",
       "      <td>8.816222</td>\n",
       "      <td>0.722446</td>\n",
       "      <td>63.084486</td>\n",
       "    </tr>\n",
       "  </tbody>\n",
       "</table>\n",
       "</div>"
      ],
      "text/plain": [
       "        feature1        feature2  feature3  feature4   feature5   feature6  \\\n",
       "0  Site engineer     grocery_pos      8.60     48230  40.213439 -85.203756   \n",
       "1  Site engineer   gas_transport    316.84     48230  44.379391 -82.859721   \n",
       "2  Site engineer     grocery_pos    294.89     48230  42.950657 -84.935542   \n",
       "3  Site engineer    shopping_net    831.08     48230  39.372111 -84.893973   \n",
       "4  Site engineer  health_fitness   1063.84     48230  41.227499 -83.228392   \n",
       "\n",
       "   feature7   feature8   feature9  feature10  feature11  feature12  feature13  \\\n",
       "0     47583  42.508293 -83.168004  65.596062          3          5          1   \n",
       "1     47583  42.661838 -81.966510  64.728795          6          5          1   \n",
       "2     47583  42.580470 -82.408529  65.434606          3          5          1   \n",
       "3     47583  41.948688 -83.919881  64.990422         23          6          1   \n",
       "4     47583  41.544743 -82.123365  65.316083         23          6          1   \n",
       "\n",
       "   label  feature14  feature15  feature16  \n",
       "0      1   8.017865   1.028822  58.911132  \n",
       "1      1  11.768568   1.106217  64.431017  \n",
       "2      1   7.996359   0.899881  57.545348  \n",
       "3      1   8.767720   1.062966  62.681169  \n",
       "4      1   8.816222   0.722446  63.084486  "
      ]
     },
     "execution_count": 10,
     "metadata": {},
     "output_type": "execute_result"
    }
   ],
   "source": [
    "data.head()"
   ]
  },
  {
   "cell_type": "code",
   "execution_count": 12,
   "id": "0776babc",
   "metadata": {},
   "outputs": [
    {
     "name": "stdout",
     "output_type": "stream",
     "text": [
      "0             Site engineer\n",
      "1             Site engineer\n",
      "2             Site engineer\n",
      "3             Site engineer\n",
      "4             Site engineer\n",
      "                ...        \n",
      "134196    Minerals surveyor\n",
      "134197    Minerals surveyor\n",
      "134198    Minerals surveyor\n",
      "134199    Minerals surveyor\n",
      "134200    Minerals surveyor\n",
      "Name: feature1, Length: 134201, dtype: object\n"
     ]
    }
   ],
   "source": [
    "print(data[\"feature1\"])"
   ]
  },
  {
   "cell_type": "code",
   "execution_count": 24,
   "id": "d9dc1fa6",
   "metadata": {},
   "outputs": [],
   "source": [
    "df = data.copy()\n",
    "categorical_cols = [\"feature1\", \"feature2\"]\n",
    "category_index = {}\n",
    "for col in categorical_cols:\n",
    "    df[col] = df[col].astype(\"category\")\n",
    "    category_index[col] = df[col].cat.categories\n",
    "    df[col] = df[col].cat.codes"
   ]
  },
  {
   "cell_type": "code",
   "execution_count": 25,
   "id": "54b4b354",
   "metadata": {},
   "outputs": [
    {
     "data": {
      "text/plain": [
       "{'feature1': Index(['Academic librarian', 'Accommodation manager', 'Accountant, chartered',\n",
       "        'Accountant, chartered certified', 'Accountant, chartered management',\n",
       "        'Accounting technician', 'Actuary', 'Acupuncturist', 'Administrator',\n",
       "        'Administrator, Civil Service',\n",
       "        ...\n",
       "        'Tree surgeon', 'Video editor', 'Volunteer coordinator',\n",
       "        'Warden/ranger', 'Warehouse manager', 'Waste management officer',\n",
       "        'Water engineer', 'Water quality scientist', 'Web designer',\n",
       "        'Wellsite geologist'],\n",
       "       dtype='object', length=481),\n",
       " 'feature2': Index(['entertainment', 'food_dining', 'gas_transport', 'grocery_net',\n",
       "        'grocery_pos', 'health_fitness', 'home', 'kids_pets', 'misc_net',\n",
       "        'misc_pos', 'personal_care', 'shopping_net', 'shopping_pos', 'travel'],\n",
       "       dtype='object')}"
      ]
     },
     "execution_count": 25,
     "metadata": {},
     "output_type": "execute_result"
    }
   ],
   "source": [
    "category_index"
   ]
  },
  {
   "cell_type": "code",
   "execution_count": null,
   "id": "8beba58f",
   "metadata": {},
   "outputs": [],
   "source": []
  },
  {
   "cell_type": "code",
   "execution_count": null,
   "id": "8e1fd20b",
   "metadata": {},
   "outputs": [],
   "source": []
  }
 ],
 "metadata": {
  "kernelspec": {
   "display_name": "Python 3 (ipykernel)",
   "language": "python",
   "name": "python3"
  },
  "language_info": {
   "codemirror_mode": {
    "name": "ipython",
    "version": 3
   },
   "file_extension": ".py",
   "mimetype": "text/x-python",
   "name": "python",
   "nbconvert_exporter": "python",
   "pygments_lexer": "ipython3",
   "version": "3.8.10"
  }
 },
 "nbformat": 4,
 "nbformat_minor": 5
}
