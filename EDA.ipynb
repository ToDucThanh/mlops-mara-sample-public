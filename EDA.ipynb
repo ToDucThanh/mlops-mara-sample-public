{
 "cells": [
  {
   "cell_type": "code",
   "execution_count": 2,
   "id": "23e8485c",
   "metadata": {},
   "outputs": [],
   "source": [
    "import pandas as pd"
   ]
  },
  {
   "cell_type": "code",
   "execution_count": 3,
   "id": "805d97bd",
   "metadata": {},
   "outputs": [],
   "source": [
    "path = \"data/raw_data/phase-1/prob-2/raw_train.parquet\""
   ]
  },
  {
   "cell_type": "code",
   "execution_count": 4,
   "id": "ecb22b1a",
   "metadata": {},
   "outputs": [],
   "source": [
    "data = pd.read_parquet(path)"
   ]
  },
  {
   "cell_type": "code",
   "execution_count": 5,
   "id": "47667120",
   "metadata": {},
   "outputs": [
    {
     "data": {
      "text/html": [
       "<div>\n",
       "<style scoped>\n",
       "    .dataframe tbody tr th:only-of-type {\n",
       "        vertical-align: middle;\n",
       "    }\n",
       "\n",
       "    .dataframe tbody tr th {\n",
       "        vertical-align: top;\n",
       "    }\n",
       "\n",
       "    .dataframe thead th {\n",
       "        text-align: right;\n",
       "    }\n",
       "</style>\n",
       "<table border=\"1\" class=\"dataframe\">\n",
       "  <thead>\n",
       "    <tr style=\"text-align: right;\">\n",
       "      <th></th>\n",
       "      <th>feature1</th>\n",
       "      <th>feature2</th>\n",
       "      <th>feature3</th>\n",
       "      <th>feature4</th>\n",
       "      <th>feature5</th>\n",
       "      <th>feature6</th>\n",
       "      <th>feature7</th>\n",
       "      <th>feature8</th>\n",
       "      <th>feature9</th>\n",
       "      <th>feature10</th>\n",
       "      <th>...</th>\n",
       "      <th>feature12</th>\n",
       "      <th>feature13</th>\n",
       "      <th>feature14</th>\n",
       "      <th>feature15</th>\n",
       "      <th>feature16</th>\n",
       "      <th>feature17</th>\n",
       "      <th>feature18</th>\n",
       "      <th>feature19</th>\n",
       "      <th>feature20</th>\n",
       "      <th>label</th>\n",
       "    </tr>\n",
       "  </thead>\n",
       "  <tbody>\n",
       "    <tr>\n",
       "      <th>0</th>\n",
       "      <td>V1</td>\n",
       "      <td>4.781942</td>\n",
       "      <td>V2</td>\n",
       "      <td>V8</td>\n",
       "      <td>1337.025331</td>\n",
       "      <td>V4</td>\n",
       "      <td>V4</td>\n",
       "      <td>2.0</td>\n",
       "      <td>V2</td>\n",
       "      <td>V0</td>\n",
       "      <td>...</td>\n",
       "      <td>V2</td>\n",
       "      <td>35.689494</td>\n",
       "      <td>none</td>\n",
       "      <td>V1</td>\n",
       "      <td>1.0</td>\n",
       "      <td>V2</td>\n",
       "      <td>1.0</td>\n",
       "      <td>none</td>\n",
       "      <td>yes</td>\n",
       "      <td>0</td>\n",
       "    </tr>\n",
       "    <tr>\n",
       "      <th>1</th>\n",
       "      <td>V3</td>\n",
       "      <td>22.764682</td>\n",
       "      <td>V4</td>\n",
       "      <td>V2</td>\n",
       "      <td>1664.415301</td>\n",
       "      <td>V0</td>\n",
       "      <td>V4</td>\n",
       "      <td>4.0</td>\n",
       "      <td>V1</td>\n",
       "      <td>V0</td>\n",
       "      <td>...</td>\n",
       "      <td>V0</td>\n",
       "      <td>23.265980</td>\n",
       "      <td>none</td>\n",
       "      <td>V1</td>\n",
       "      <td>2.0</td>\n",
       "      <td>V2</td>\n",
       "      <td>1.0</td>\n",
       "      <td>none</td>\n",
       "      <td>yes</td>\n",
       "      <td>0</td>\n",
       "    </tr>\n",
       "    <tr>\n",
       "      <th>2</th>\n",
       "      <td>V3</td>\n",
       "      <td>7.462099</td>\n",
       "      <td>V2</td>\n",
       "      <td>V3</td>\n",
       "      <td>750.653224</td>\n",
       "      <td>V3</td>\n",
       "      <td>V2</td>\n",
       "      <td>4.0</td>\n",
       "      <td>V2</td>\n",
       "      <td>V0</td>\n",
       "      <td>...</td>\n",
       "      <td>V2</td>\n",
       "      <td>34.060872</td>\n",
       "      <td>stores</td>\n",
       "      <td>V0</td>\n",
       "      <td>1.0</td>\n",
       "      <td>V2</td>\n",
       "      <td>1.0</td>\n",
       "      <td>yes</td>\n",
       "      <td>yes</td>\n",
       "      <td>0</td>\n",
       "    </tr>\n",
       "    <tr>\n",
       "      <th>3</th>\n",
       "      <td>V3</td>\n",
       "      <td>23.718364</td>\n",
       "      <td>V4</td>\n",
       "      <td>V7</td>\n",
       "      <td>4829.002078</td>\n",
       "      <td>V4</td>\n",
       "      <td>V2</td>\n",
       "      <td>4.0</td>\n",
       "      <td>V1</td>\n",
       "      <td>V0</td>\n",
       "      <td>...</td>\n",
       "      <td>V3</td>\n",
       "      <td>62.477448</td>\n",
       "      <td>none</td>\n",
       "      <td>V1</td>\n",
       "      <td>2.0</td>\n",
       "      <td>V1</td>\n",
       "      <td>1.0</td>\n",
       "      <td>none</td>\n",
       "      <td>yes</td>\n",
       "      <td>0</td>\n",
       "    </tr>\n",
       "    <tr>\n",
       "      <th>4</th>\n",
       "      <td>V3</td>\n",
       "      <td>13.768903</td>\n",
       "      <td>V3</td>\n",
       "      <td>V3</td>\n",
       "      <td>3559.956292</td>\n",
       "      <td>V3</td>\n",
       "      <td>V4</td>\n",
       "      <td>1.0</td>\n",
       "      <td>V1</td>\n",
       "      <td>V0</td>\n",
       "      <td>...</td>\n",
       "      <td>V2</td>\n",
       "      <td>41.999120</td>\n",
       "      <td>bank</td>\n",
       "      <td>V1</td>\n",
       "      <td>1.0</td>\n",
       "      <td>V2</td>\n",
       "      <td>1.0</td>\n",
       "      <td>yes</td>\n",
       "      <td>yes</td>\n",
       "      <td>0</td>\n",
       "    </tr>\n",
       "  </tbody>\n",
       "</table>\n",
       "<p>5 rows × 21 columns</p>\n",
       "</div>"
      ],
      "text/plain": [
       "  feature1   feature2 feature3 feature4     feature5 feature6 feature7  \\\n",
       "0       V1   4.781942       V2       V8  1337.025331       V4       V4   \n",
       "1       V3  22.764682       V4       V2  1664.415301       V0       V4   \n",
       "2       V3   7.462099       V2       V3   750.653224       V3       V2   \n",
       "3       V3  23.718364       V4       V7  4829.002078       V4       V2   \n",
       "4       V3  13.768903       V3       V3  3559.956292       V3       V4   \n",
       "\n",
       "   feature8 feature9 feature10  ...  feature12  feature13  feature14  \\\n",
       "0       2.0       V2        V0  ...         V2  35.689494       none   \n",
       "1       4.0       V1        V0  ...         V0  23.265980       none   \n",
       "2       4.0       V2        V0  ...         V2  34.060872     stores   \n",
       "3       4.0       V1        V0  ...         V3  62.477448       none   \n",
       "4       1.0       V1        V0  ...         V2  41.999120       bank   \n",
       "\n",
       "  feature15 feature16  feature17 feature18  feature19 feature20 label  \n",
       "0        V1       1.0         V2       1.0       none       yes     0  \n",
       "1        V1       2.0         V2       1.0       none       yes     0  \n",
       "2        V0       1.0         V2       1.0        yes       yes     0  \n",
       "3        V1       2.0         V1       1.0       none       yes     0  \n",
       "4        V1       1.0         V2       1.0        yes       yes     0  \n",
       "\n",
       "[5 rows x 21 columns]"
      ]
     },
     "execution_count": 5,
     "metadata": {},
     "output_type": "execute_result"
    }
   ],
   "source": [
    "data.head()"
   ]
  },
  {
   "cell_type": "code",
   "execution_count": 6,
   "id": "f97e1d1b",
   "metadata": {},
   "outputs": [
    {
     "data": {
      "text/plain": [
       "<bound method Series.unique of 0        2.0\n",
       "1        4.0\n",
       "2        4.0\n",
       "3        4.0\n",
       "4        1.0\n",
       "        ... \n",
       "59995    3.0\n",
       "59996    2.0\n",
       "59997    2.0\n",
       "59998    2.0\n",
       "59999    3.0\n",
       "Name: feature8, Length: 60000, dtype: float64>"
      ]
     },
     "execution_count": 6,
     "metadata": {},
     "output_type": "execute_result"
    }
   ],
   "source": [
    "data[\"feature8\"].unique"
   ]
  },
  {
   "cell_type": "code",
   "execution_count": 7,
   "id": "90fb9730",
   "metadata": {},
   "outputs": [],
   "source": [
    "category_columns = [\n",
    "    \"feature1\",\n",
    "    \"feature3\",\n",
    "    \"feature4\",\n",
    "    \"feature6\",\n",
    "    \"feature7\",\n",
    "    \"feature8\",\n",
    "    \"feature9\",\n",
    "    \"feature10\",\n",
    "    \"feature11\",\n",
    "    \"feature12\",\n",
    "    \"feature14\",\n",
    "    \"feature15\",\n",
    "    \"feature16\",\n",
    "    \"feature17\",\n",
    "    \"feature19\",\n",
    "    \"feature20\"\n",
    "]"
   ]
  },
  {
   "cell_type": "code",
   "execution_count": 8,
   "id": "447f6f47",
   "metadata": {},
   "outputs": [
    {
     "name": "stdout",
     "output_type": "stream",
     "text": [
      "<class 'pandas.core.frame.DataFrame'>\n",
      "RangeIndex: 60000 entries, 0 to 59999\n",
      "Data columns (total 21 columns):\n",
      " #   Column     Non-Null Count  Dtype  \n",
      "---  ------     --------------  -----  \n",
      " 0   feature1   60000 non-null  object \n",
      " 1   feature2   60000 non-null  float64\n",
      " 2   feature3   60000 non-null  object \n",
      " 3   feature4   60000 non-null  object \n",
      " 4   feature5   60000 non-null  float64\n",
      " 5   feature6   60000 non-null  object \n",
      " 6   feature7   60000 non-null  object \n",
      " 7   feature8   60000 non-null  float64\n",
      " 8   feature9   60000 non-null  object \n",
      " 9   feature10  60000 non-null  object \n",
      " 10  feature11  60000 non-null  float64\n",
      " 11  feature12  60000 non-null  object \n",
      " 12  feature13  60000 non-null  float64\n",
      " 13  feature14  60000 non-null  object \n",
      " 14  feature15  60000 non-null  object \n",
      " 15  feature16  60000 non-null  float64\n",
      " 16  feature17  60000 non-null  object \n",
      " 17  feature18  60000 non-null  float64\n",
      " 18  feature19  60000 non-null  object \n",
      " 19  feature20  60000 non-null  object \n",
      " 20  label      60000 non-null  int64  \n",
      "dtypes: float64(7), int64(1), object(13)\n",
      "memory usage: 9.6+ MB\n"
     ]
    }
   ],
   "source": [
    "df = data.copy()\n",
    "df.info()"
   ]
  },
  {
   "cell_type": "code",
   "execution_count": 9,
   "id": "d9dc1fa6",
   "metadata": {},
   "outputs": [],
   "source": [
    "category_index = {}\n",
    "for col in category_columns:\n",
    "    df[col] = df[col].astype(\"category\")\n",
    "    category_index[col] = df[col].cat.categories\n",
    "    df[col] = df[col].cat.codes"
   ]
  },
  {
   "cell_type": "code",
   "execution_count": 10,
   "id": "54b4b354",
   "metadata": {},
   "outputs": [
    {
     "data": {
      "text/html": [
       "<div>\n",
       "<style scoped>\n",
       "    .dataframe tbody tr th:only-of-type {\n",
       "        vertical-align: middle;\n",
       "    }\n",
       "\n",
       "    .dataframe tbody tr th {\n",
       "        vertical-align: top;\n",
       "    }\n",
       "\n",
       "    .dataframe thead th {\n",
       "        text-align: right;\n",
       "    }\n",
       "</style>\n",
       "<table border=\"1\" class=\"dataframe\">\n",
       "  <thead>\n",
       "    <tr style=\"text-align: right;\">\n",
       "      <th></th>\n",
       "      <th>feature1</th>\n",
       "      <th>feature2</th>\n",
       "      <th>feature3</th>\n",
       "      <th>feature4</th>\n",
       "      <th>feature5</th>\n",
       "      <th>feature6</th>\n",
       "      <th>feature7</th>\n",
       "      <th>feature8</th>\n",
       "      <th>feature9</th>\n",
       "      <th>feature10</th>\n",
       "      <th>...</th>\n",
       "      <th>feature12</th>\n",
       "      <th>feature13</th>\n",
       "      <th>feature14</th>\n",
       "      <th>feature15</th>\n",
       "      <th>feature16</th>\n",
       "      <th>feature17</th>\n",
       "      <th>feature18</th>\n",
       "      <th>feature19</th>\n",
       "      <th>feature20</th>\n",
       "      <th>label</th>\n",
       "    </tr>\n",
       "  </thead>\n",
       "  <tbody>\n",
       "    <tr>\n",
       "      <th>0</th>\n",
       "      <td>1</td>\n",
       "      <td>4.781942</td>\n",
       "      <td>2</td>\n",
       "      <td>9</td>\n",
       "      <td>1337.025331</td>\n",
       "      <td>4</td>\n",
       "      <td>4</td>\n",
       "      <td>1</td>\n",
       "      <td>2</td>\n",
       "      <td>0</td>\n",
       "      <td>...</td>\n",
       "      <td>2</td>\n",
       "      <td>35.689494</td>\n",
       "      <td>1</td>\n",
       "      <td>1</td>\n",
       "      <td>0</td>\n",
       "      <td>2</td>\n",
       "      <td>1.0</td>\n",
       "      <td>0</td>\n",
       "      <td>1</td>\n",
       "      <td>0</td>\n",
       "    </tr>\n",
       "    <tr>\n",
       "      <th>1</th>\n",
       "      <td>3</td>\n",
       "      <td>22.764682</td>\n",
       "      <td>4</td>\n",
       "      <td>3</td>\n",
       "      <td>1664.415301</td>\n",
       "      <td>0</td>\n",
       "      <td>4</td>\n",
       "      <td>3</td>\n",
       "      <td>1</td>\n",
       "      <td>0</td>\n",
       "      <td>...</td>\n",
       "      <td>0</td>\n",
       "      <td>23.265980</td>\n",
       "      <td>1</td>\n",
       "      <td>1</td>\n",
       "      <td>1</td>\n",
       "      <td>2</td>\n",
       "      <td>1.0</td>\n",
       "      <td>0</td>\n",
       "      <td>1</td>\n",
       "      <td>0</td>\n",
       "    </tr>\n",
       "  </tbody>\n",
       "</table>\n",
       "<p>2 rows × 21 columns</p>\n",
       "</div>"
      ],
      "text/plain": [
       "   feature1   feature2  feature3  feature4     feature5  feature6  feature7  \\\n",
       "0         1   4.781942         2         9  1337.025331         4         4   \n",
       "1         3  22.764682         4         3  1664.415301         0         4   \n",
       "\n",
       "   feature8  feature9  feature10  ...  feature12  feature13  feature14  \\\n",
       "0         1         2          0  ...          2  35.689494          1   \n",
       "1         3         1          0  ...          0  23.265980          1   \n",
       "\n",
       "   feature15  feature16  feature17  feature18  feature19  feature20  label  \n",
       "0          1          0          2        1.0          0          1      0  \n",
       "1          1          1          2        1.0          0          1      0  \n",
       "\n",
       "[2 rows x 21 columns]"
      ]
     },
     "execution_count": 10,
     "metadata": {},
     "output_type": "execute_result"
    }
   ],
   "source": [
    "df.head(2)"
   ]
  },
  {
   "cell_type": "code",
   "execution_count": 11,
   "id": "8beba58f",
   "metadata": {},
   "outputs": [
    {
     "data": {
      "text/plain": [
       "{'feature1': Index(['V0', 'V1', 'V2', 'V3'], dtype='object'),\n",
       " 'feature3': Index(['V0', 'V1', 'V2', 'V3', 'V4'], dtype='object'),\n",
       " 'feature4': Index(['V0', 'V1', 'V10', 'V2', 'V3', 'V4', 'V5', 'V6', 'V7', 'V8', 'V9'], dtype='object'),\n",
       " 'feature6': Index(['V0', 'V1', 'V2', 'V3', 'V4'], dtype='object'),\n",
       " 'feature7': Index(['V0', 'V1', 'V2', 'V3', 'V4'], dtype='object'),\n",
       " 'feature8': Float64Index([1.0, 2.0, 3.0, 4.0], dtype='float64'),\n",
       " 'feature9': Index(['V0', 'V1', 'V2', 'V3', 'V4'], dtype='object'),\n",
       " 'feature10': Index(['V0', 'V1', 'V2'], dtype='object'),\n",
       " 'feature11': Float64Index([1.0, 2.0, 3.0, 4.0], dtype='float64'),\n",
       " 'feature12': Index(['V0', 'V1', 'V2', 'V3'], dtype='object'),\n",
       " 'feature14': Index(['bank', 'none', 'stores'], dtype='object'),\n",
       " 'feature15': Index(['V0', 'V1', 'V2'], dtype='object'),\n",
       " 'feature16': Float64Index([1.0, 2.0, 3.0, 4.0], dtype='float64'),\n",
       " 'feature17': Index(['V0', 'V1', 'V2', 'V3'], dtype='object'),\n",
       " 'feature19': Index(['none', 'yes'], dtype='object'),\n",
       " 'feature20': Index(['no', 'yes'], dtype='object')}"
      ]
     },
     "execution_count": 11,
     "metadata": {},
     "output_type": "execute_result"
    }
   ],
   "source": [
    "category_index"
   ]
  },
  {
   "cell_type": "code",
   "execution_count": 12,
   "id": "8e1fd20b",
   "metadata": {},
   "outputs": [],
   "source": [
    "from sklearn.model_selection import train_test_split\n",
    "train, dev = train_test_split(\n",
    "    df,\n",
    "    test_size=0.2,\n",
    "    random_state=456,\n",
    ")"
   ]
  },
  {
   "cell_type": "code",
   "execution_count": 13,
   "id": "8b7c9ea2",
   "metadata": {},
   "outputs": [
    {
     "data": {
      "text/plain": [
       "(48000, 12000)"
      ]
     },
     "execution_count": 13,
     "metadata": {},
     "output_type": "execute_result"
    }
   ],
   "source": [
    "len(train),len(dev)"
   ]
  },
  {
   "cell_type": "code",
   "execution_count": 14,
   "id": "41dec104",
   "metadata": {},
   "outputs": [
    {
     "data": {
      "text/html": [
       "<div>\n",
       "<style scoped>\n",
       "    .dataframe tbody tr th:only-of-type {\n",
       "        vertical-align: middle;\n",
       "    }\n",
       "\n",
       "    .dataframe tbody tr th {\n",
       "        vertical-align: top;\n",
       "    }\n",
       "\n",
       "    .dataframe thead th {\n",
       "        text-align: right;\n",
       "    }\n",
       "</style>\n",
       "<table border=\"1\" class=\"dataframe\">\n",
       "  <thead>\n",
       "    <tr style=\"text-align: right;\">\n",
       "      <th></th>\n",
       "      <th>feature1</th>\n",
       "      <th>feature2</th>\n",
       "      <th>feature3</th>\n",
       "      <th>feature4</th>\n",
       "      <th>feature5</th>\n",
       "      <th>feature6</th>\n",
       "      <th>feature7</th>\n",
       "      <th>feature8</th>\n",
       "      <th>feature9</th>\n",
       "      <th>feature10</th>\n",
       "      <th>...</th>\n",
       "      <th>feature12</th>\n",
       "      <th>feature13</th>\n",
       "      <th>feature14</th>\n",
       "      <th>feature15</th>\n",
       "      <th>feature16</th>\n",
       "      <th>feature17</th>\n",
       "      <th>feature18</th>\n",
       "      <th>feature19</th>\n",
       "      <th>feature20</th>\n",
       "      <th>label</th>\n",
       "    </tr>\n",
       "  </thead>\n",
       "  <tbody>\n",
       "    <tr>\n",
       "      <th>47981</th>\n",
       "      <td>0</td>\n",
       "      <td>6.8136</td>\n",
       "      <td>2</td>\n",
       "      <td>8</td>\n",
       "      <td>1169.690642</td>\n",
       "      <td>0</td>\n",
       "      <td>2</td>\n",
       "      <td>1</td>\n",
       "      <td>2</td>\n",
       "      <td>0</td>\n",
       "      <td>...</td>\n",
       "      <td>0</td>\n",
       "      <td>60.521679</td>\n",
       "      <td>1</td>\n",
       "      <td>1</td>\n",
       "      <td>0</td>\n",
       "      <td>1</td>\n",
       "      <td>1.0</td>\n",
       "      <td>0</td>\n",
       "      <td>1</td>\n",
       "      <td>1</td>\n",
       "    </tr>\n",
       "  </tbody>\n",
       "</table>\n",
       "<p>1 rows × 21 columns</p>\n",
       "</div>"
      ],
      "text/plain": [
       "       feature1  feature2  feature3  feature4     feature5  feature6  \\\n",
       "47981         0    6.8136         2         8  1169.690642         0   \n",
       "\n",
       "       feature7  feature8  feature9  feature10  ...  feature12  feature13  \\\n",
       "47981         2         1         2          0  ...          0  60.521679   \n",
       "\n",
       "       feature14  feature15  feature16  feature17  feature18  feature19  \\\n",
       "47981          1          1          0          1        1.0          0   \n",
       "\n",
       "       feature20  label  \n",
       "47981          1      1  \n",
       "\n",
       "[1 rows x 21 columns]"
      ]
     },
     "execution_count": 14,
     "metadata": {},
     "output_type": "execute_result"
    }
   ],
   "source": [
    "train.head(1)"
   ]
  },
  {
   "cell_type": "code",
   "execution_count": 15,
   "id": "30577040",
   "metadata": {},
   "outputs": [],
   "source": [
    "target_col = \"label\"\n",
    "train_x = train.drop([target_col], axis=1)\n",
    "train_y = train[[target_col]]\n",
    "test_x = dev.drop([target_col], axis=1)\n",
    "test_y = dev[[target_col]]"
   ]
  },
  {
   "cell_type": "code",
   "execution_count": 16,
   "id": "c9bcd7e5",
   "metadata": {},
   "outputs": [
    {
     "data": {
      "text/html": [
       "<div>\n",
       "<style scoped>\n",
       "    .dataframe tbody tr th:only-of-type {\n",
       "        vertical-align: middle;\n",
       "    }\n",
       "\n",
       "    .dataframe tbody tr th {\n",
       "        vertical-align: top;\n",
       "    }\n",
       "\n",
       "    .dataframe thead th {\n",
       "        text-align: right;\n",
       "    }\n",
       "</style>\n",
       "<table border=\"1\" class=\"dataframe\">\n",
       "  <thead>\n",
       "    <tr style=\"text-align: right;\">\n",
       "      <th></th>\n",
       "      <th>label</th>\n",
       "    </tr>\n",
       "  </thead>\n",
       "  <tbody>\n",
       "    <tr>\n",
       "      <th>47981</th>\n",
       "      <td>1</td>\n",
       "    </tr>\n",
       "    <tr>\n",
       "      <th>1024</th>\n",
       "      <td>0</td>\n",
       "    </tr>\n",
       "    <tr>\n",
       "      <th>42034</th>\n",
       "      <td>0</td>\n",
       "    </tr>\n",
       "    <tr>\n",
       "      <th>37121</th>\n",
       "      <td>0</td>\n",
       "    </tr>\n",
       "    <tr>\n",
       "      <th>18071</th>\n",
       "      <td>0</td>\n",
       "    </tr>\n",
       "  </tbody>\n",
       "</table>\n",
       "</div>"
      ],
      "text/plain": [
       "       label\n",
       "47981      1\n",
       "1024       0\n",
       "42034      0\n",
       "37121      0\n",
       "18071      0"
      ]
     },
     "execution_count": 16,
     "metadata": {},
     "output_type": "execute_result"
    }
   ],
   "source": [
    "train_y.head()"
   ]
  },
  {
   "cell_type": "code",
   "execution_count": 17,
   "id": "9d2e71b0",
   "metadata": {},
   "outputs": [],
   "source": [
    "train_x = train_x.to_numpy()\n",
    "train_y = train_y.to_numpy()"
   ]
  },
  {
   "cell_type": "code",
   "execution_count": 18,
   "id": "ad4dbc7f",
   "metadata": {},
   "outputs": [
    {
     "name": "stdout",
     "output_type": "stream",
     "text": [
      "Requirement already satisfied: xgboost==1.7.5 in /Users/mac/opt/anaconda3/envs/openvino-dev/lib/python3.8/site-packages (1.7.5)\n",
      "Requirement already satisfied: scipy in /Users/mac/opt/anaconda3/envs/openvino-dev/lib/python3.8/site-packages (from xgboost==1.7.5) (1.9.1)\n",
      "Requirement already satisfied: numpy in /Users/mac/opt/anaconda3/envs/openvino-dev/lib/python3.8/site-packages (from xgboost==1.7.5) (1.23.5)\n"
     ]
    }
   ],
   "source": [
    "# !pip install xgboost==1.7.5"
   ]
  },
  {
   "cell_type": "code",
   "execution_count": 19,
   "id": "ed384104",
   "metadata": {},
   "outputs": [
    {
     "name": "stdout",
     "output_type": "stream",
     "text": [
      "Binary classification\n"
     ]
    },
    {
     "data": {
      "text/html": [
       "<style>#sk-container-id-1 {color: black;background-color: white;}#sk-container-id-1 pre{padding: 0;}#sk-container-id-1 div.sk-toggleable {background-color: white;}#sk-container-id-1 label.sk-toggleable__label {cursor: pointer;display: block;width: 100%;margin-bottom: 0;padding: 0.3em;box-sizing: border-box;text-align: center;}#sk-container-id-1 label.sk-toggleable__label-arrow:before {content: \"▸\";float: left;margin-right: 0.25em;color: #696969;}#sk-container-id-1 label.sk-toggleable__label-arrow:hover:before {color: black;}#sk-container-id-1 div.sk-estimator:hover label.sk-toggleable__label-arrow:before {color: black;}#sk-container-id-1 div.sk-toggleable__content {max-height: 0;max-width: 0;overflow: hidden;text-align: left;background-color: #f0f8ff;}#sk-container-id-1 div.sk-toggleable__content pre {margin: 0.2em;color: black;border-radius: 0.25em;background-color: #f0f8ff;}#sk-container-id-1 input.sk-toggleable__control:checked~div.sk-toggleable__content {max-height: 200px;max-width: 100%;overflow: auto;}#sk-container-id-1 input.sk-toggleable__control:checked~label.sk-toggleable__label-arrow:before {content: \"▾\";}#sk-container-id-1 div.sk-estimator input.sk-toggleable__control:checked~label.sk-toggleable__label {background-color: #d4ebff;}#sk-container-id-1 div.sk-label input.sk-toggleable__control:checked~label.sk-toggleable__label {background-color: #d4ebff;}#sk-container-id-1 input.sk-hidden--visually {border: 0;clip: rect(1px 1px 1px 1px);clip: rect(1px, 1px, 1px, 1px);height: 1px;margin: -1px;overflow: hidden;padding: 0;position: absolute;width: 1px;}#sk-container-id-1 div.sk-estimator {font-family: monospace;background-color: #f0f8ff;border: 1px dotted black;border-radius: 0.25em;box-sizing: border-box;margin-bottom: 0.5em;}#sk-container-id-1 div.sk-estimator:hover {background-color: #d4ebff;}#sk-container-id-1 div.sk-parallel-item::after {content: \"\";width: 100%;border-bottom: 1px solid gray;flex-grow: 1;}#sk-container-id-1 div.sk-label:hover label.sk-toggleable__label {background-color: #d4ebff;}#sk-container-id-1 div.sk-serial::before {content: \"\";position: absolute;border-left: 1px solid gray;box-sizing: border-box;top: 0;bottom: 0;left: 50%;z-index: 0;}#sk-container-id-1 div.sk-serial {display: flex;flex-direction: column;align-items: center;background-color: white;padding-right: 0.2em;padding-left: 0.2em;position: relative;}#sk-container-id-1 div.sk-item {position: relative;z-index: 1;}#sk-container-id-1 div.sk-parallel {display: flex;align-items: stretch;justify-content: center;background-color: white;position: relative;}#sk-container-id-1 div.sk-item::before, #sk-container-id-1 div.sk-parallel-item::before {content: \"\";position: absolute;border-left: 1px solid gray;box-sizing: border-box;top: 0;bottom: 0;left: 50%;z-index: -1;}#sk-container-id-1 div.sk-parallel-item {display: flex;flex-direction: column;z-index: 1;position: relative;background-color: white;}#sk-container-id-1 div.sk-parallel-item:first-child::after {align-self: flex-end;width: 50%;}#sk-container-id-1 div.sk-parallel-item:last-child::after {align-self: flex-start;width: 50%;}#sk-container-id-1 div.sk-parallel-item:only-child::after {width: 0;}#sk-container-id-1 div.sk-dashed-wrapped {border: 1px dashed gray;margin: 0 0.4em 0.5em 0.4em;box-sizing: border-box;padding-bottom: 0.4em;background-color: white;}#sk-container-id-1 div.sk-label label {font-family: monospace;font-weight: bold;display: inline-block;line-height: 1.2em;}#sk-container-id-1 div.sk-label-container {text-align: center;}#sk-container-id-1 div.sk-container {/* jupyter's `normalize.less` sets `[hidden] { display: none; }` but bootstrap.min.css set `[hidden] { display: none !important; }` so we also need the `!important` here to be able to override the default hidden behavior on the sphinx rendered scikit-learn.org. See: https://github.com/scikit-learn/scikit-learn/issues/21755 */display: inline-block !important;position: relative;}#sk-container-id-1 div.sk-text-repr-fallback {display: none;}</style><div id=\"sk-container-id-1\" class=\"sk-top-container\"><div class=\"sk-text-repr-fallback\"><pre>XGBClassifier(base_score=None, booster=None, callbacks=None,\n",
       "              colsample_bylevel=None, colsample_bynode=None,\n",
       "              colsample_bytree=None, early_stopping_rounds=None,\n",
       "              enable_categorical=False, eval_metric=None, feature_types=None,\n",
       "              gamma=None, gpu_id=None, grow_policy=None, importance_type=None,\n",
       "              interaction_constraints=None, learning_rate=None, max_bin=None,\n",
       "              max_cat_threshold=None, max_cat_to_onehot=None,\n",
       "              max_delta_step=None, max_depth=None, max_leaves=None,\n",
       "              min_child_weight=None, missing=nan, monotone_constraints=None,\n",
       "              n_estimators=100, n_jobs=None, num_parallel_tree=None,\n",
       "              predictor=None, random_state=456, ...)</pre><b>In a Jupyter environment, please rerun this cell to show the HTML representation or trust the notebook. <br />On GitHub, the HTML representation is unable to render, please try loading this page with nbviewer.org.</b></div><div class=\"sk-container\" hidden><div class=\"sk-item\"><div class=\"sk-estimator sk-toggleable\"><input class=\"sk-toggleable__control sk-hidden--visually\" id=\"sk-estimator-id-1\" type=\"checkbox\" checked><label for=\"sk-estimator-id-1\" class=\"sk-toggleable__label sk-toggleable__label-arrow\">XGBClassifier</label><div class=\"sk-toggleable__content\"><pre>XGBClassifier(base_score=None, booster=None, callbacks=None,\n",
       "              colsample_bylevel=None, colsample_bynode=None,\n",
       "              colsample_bytree=None, early_stopping_rounds=None,\n",
       "              enable_categorical=False, eval_metric=None, feature_types=None,\n",
       "              gamma=None, gpu_id=None, grow_policy=None, importance_type=None,\n",
       "              interaction_constraints=None, learning_rate=None, max_bin=None,\n",
       "              max_cat_threshold=None, max_cat_to_onehot=None,\n",
       "              max_delta_step=None, max_depth=None, max_leaves=None,\n",
       "              min_child_weight=None, missing=nan, monotone_constraints=None,\n",
       "              n_estimators=100, n_jobs=None, num_parallel_tree=None,\n",
       "              predictor=None, random_state=456, ...)</pre></div></div></div></div></div>"
      ],
      "text/plain": [
       "XGBClassifier(base_score=None, booster=None, callbacks=None,\n",
       "              colsample_bylevel=None, colsample_bynode=None,\n",
       "              colsample_bytree=None, early_stopping_rounds=None,\n",
       "              enable_categorical=False, eval_metric=None, feature_types=None,\n",
       "              gamma=None, gpu_id=None, grow_policy=None, importance_type=None,\n",
       "              interaction_constraints=None, learning_rate=None, max_bin=None,\n",
       "              max_cat_threshold=None, max_cat_to_onehot=None,\n",
       "              max_delta_step=None, max_depth=None, max_leaves=None,\n",
       "              min_child_weight=None, missing=nan, monotone_constraints=None,\n",
       "              n_estimators=100, n_jobs=None, num_parallel_tree=None,\n",
       "              predictor=None, random_state=456, ...)"
      ]
     },
     "execution_count": 19,
     "metadata": {},
     "output_type": "execute_result"
    }
   ],
   "source": [
    "import numpy as np\n",
    "import xgboost as xgb\n",
    "model_config = {\"random_state\": 456}\n",
    "if len(np.unique(train_y)) == 2:\n",
    "    print(\"Binary classification\")\n",
    "    objective = \"binary:logistic\"\n",
    "else:\n",
    "    objective = \"multi:softprob\"\n",
    "model = xgb.XGBClassifier(objective=objective, **model_config)\n",
    "model.fit(train_x, train_y)"
   ]
  },
  {
   "cell_type": "code",
   "execution_count": 20,
   "id": "1ebc1873",
   "metadata": {},
   "outputs": [],
   "source": [
    "test_x = test_x.to_numpy()\n",
    "test_y = test_y.to_numpy()\n",
    "predictions = model.predict(test_x)"
   ]
  },
  {
   "cell_type": "code",
   "execution_count": 22,
   "id": "67c98a03",
   "metadata": {},
   "outputs": [
    {
     "data": {
      "text/plain": [
       "(12000,)"
      ]
     },
     "execution_count": 22,
     "metadata": {},
     "output_type": "execute_result"
    }
   ],
   "source": [
    "predictions.shape"
   ]
  },
  {
   "cell_type": "code",
   "execution_count": 23,
   "id": "58d9b0dc",
   "metadata": {},
   "outputs": [
    {
     "data": {
      "text/plain": [
       "0.7579546360069409"
      ]
     },
     "execution_count": 23,
     "metadata": {},
     "output_type": "execute_result"
    }
   ],
   "source": [
    "from sklearn.metrics import roc_auc_score\n",
    "auc_score = roc_auc_score(test_y, predictions)\n",
    "auc_score"
   ]
  },
  {
   "cell_type": "code",
   "execution_count": null,
   "id": "eb837e1a",
   "metadata": {},
   "outputs": [],
   "source": []
  }
 ],
 "metadata": {
  "kernelspec": {
   "display_name": "Python 3 (ipykernel)",
   "language": "python",
   "name": "python3"
  },
  "language_info": {
   "codemirror_mode": {
    "name": "ipython",
    "version": 3
   },
   "file_extension": ".py",
   "mimetype": "text/x-python",
   "name": "python",
   "nbconvert_exporter": "python",
   "pygments_lexer": "ipython3",
   "version": "3.8.10"
  }
 },
 "nbformat": 4,
 "nbformat_minor": 5
}
